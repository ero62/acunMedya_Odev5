{
 "cells": [
  {
   "cell_type": "markdown",
   "id": "efa128fe-e2fc-46a3-9be7-68ad081f4418",
   "metadata": {},
   "source": [
    "# Matplotlib \n",
    "Veri görseleştirme kütüphanesidir"
   ]
  },
  {
   "cell_type": "code",
   "execution_count": 1,
   "id": "46030375-49dc-40f8-b780-8fbe2a5be073",
   "metadata": {},
   "outputs": [
    {
     "name": "stdout",
     "output_type": "stream",
     "text": [
      "Collecting matplotlib\n",
      "  Downloading matplotlib-3.10.1-cp312-cp312-win_amd64.whl.metadata (11 kB)\n",
      "Collecting contourpy>=1.0.1 (from matplotlib)\n",
      "  Downloading contourpy-1.3.1-cp312-cp312-win_amd64.whl.metadata (5.4 kB)\n",
      "Collecting cycler>=0.10 (from matplotlib)\n",
      "  Downloading cycler-0.12.1-py3-none-any.whl.metadata (3.8 kB)\n",
      "Collecting fonttools>=4.22.0 (from matplotlib)\n",
      "  Downloading fonttools-4.56.0-cp312-cp312-win_amd64.whl.metadata (103 kB)\n",
      "Collecting kiwisolver>=1.3.1 (from matplotlib)\n",
      "  Downloading kiwisolver-1.4.8-cp312-cp312-win_amd64.whl.metadata (6.3 kB)\n",
      "Requirement already satisfied: numpy>=1.23 in c:\\users\\admin\\anaconda3\\envs\\env\\lib\\site-packages (from matplotlib) (2.2.3)\n",
      "Requirement already satisfied: packaging>=20.0 in c:\\users\\admin\\anaconda3\\envs\\env\\lib\\site-packages (from matplotlib) (24.2)\n",
      "Requirement already satisfied: pillow>=8 in c:\\users\\admin\\anaconda3\\envs\\env\\lib\\site-packages (from matplotlib) (11.1.0)\n",
      "Collecting pyparsing>=2.3.1 (from matplotlib)\n",
      "  Downloading pyparsing-3.2.1-py3-none-any.whl.metadata (5.0 kB)\n",
      "Requirement already satisfied: python-dateutil>=2.7 in c:\\users\\admin\\anaconda3\\envs\\env\\lib\\site-packages (from matplotlib) (2.9.0.post0)\n",
      "Requirement already satisfied: six>=1.5 in c:\\users\\admin\\anaconda3\\envs\\env\\lib\\site-packages (from python-dateutil>=2.7->matplotlib) (1.17.0)\n",
      "Downloading matplotlib-3.10.1-cp312-cp312-win_amd64.whl (8.1 MB)\n",
      "   ---------------------------------------- 0.0/8.1 MB ? eta -:--:--\n",
      "   ---------------------------------------- 0.0/8.1 MB ? eta -:--:--\n",
      "   ---------------------------------------- 0.0/8.1 MB ? eta -:--:--\n",
      "   ---------------------------------------- 0.0/8.1 MB ? eta -:--:--\n",
      "   ---------------------------------------- 0.0/8.1 MB ? eta -:--:--\n",
      "   - -------------------------------------- 0.3/8.1 MB ? eta -:--:--\n",
      "   - -------------------------------------- 0.3/8.1 MB ? eta -:--:--\n",
      "   - -------------------------------------- 0.3/8.1 MB ? eta -:--:--\n",
      "   - -------------------------------------- 0.3/8.1 MB ? eta -:--:--\n",
      "   - -------------------------------------- 0.3/8.1 MB ? eta -:--:--\n",
      "   -- ------------------------------------- 0.5/8.1 MB 229.9 kB/s eta 0:00:33\n",
      "   -- ------------------------------------- 0.5/8.1 MB 229.9 kB/s eta 0:00:33\n",
      "   -- ------------------------------------- 0.5/8.1 MB 229.9 kB/s eta 0:00:33\n",
      "   -- ------------------------------------- 0.5/8.1 MB 229.9 kB/s eta 0:00:33\n",
      "   -- ------------------------------------- 0.5/8.1 MB 229.9 kB/s eta 0:00:33\n",
      "   -- ------------------------------------- 0.5/8.1 MB 229.9 kB/s eta 0:00:33\n",
      "   --- ------------------------------------ 0.8/8.1 MB 215.1 kB/s eta 0:00:34\n",
      "   --- ------------------------------------ 0.8/8.1 MB 215.1 kB/s eta 0:00:34\n",
      "   --- ------------------------------------ 0.8/8.1 MB 215.1 kB/s eta 0:00:34\n",
      "   --- ------------------------------------ 0.8/8.1 MB 215.1 kB/s eta 0:00:34\n",
      "   --- ------------------------------------ 0.8/8.1 MB 215.1 kB/s eta 0:00:34\n",
      "   ----- ---------------------------------- 1.0/8.1 MB 227.8 kB/s eta 0:00:31\n",
      "   ----- ---------------------------------- 1.0/8.1 MB 227.8 kB/s eta 0:00:31\n",
      "   ----- ---------------------------------- 1.0/8.1 MB 227.8 kB/s eta 0:00:31\n",
      "   ----- ---------------------------------- 1.0/8.1 MB 227.8 kB/s eta 0:00:31\n",
      "   ----- ---------------------------------- 1.0/8.1 MB 227.8 kB/s eta 0:00:31\n",
      "   ----- ---------------------------------- 1.0/8.1 MB 227.8 kB/s eta 0:00:31\n",
      "   ----- ---------------------------------- 1.0/8.1 MB 227.8 kB/s eta 0:00:31\n",
      "   ------ --------------------------------- 1.3/8.1 MB 219.3 kB/s eta 0:00:31\n",
      "   ------ --------------------------------- 1.3/8.1 MB 219.3 kB/s eta 0:00:31\n",
      "   ------ --------------------------------- 1.3/8.1 MB 219.3 kB/s eta 0:00:31\n",
      "   ------- -------------------------------- 1.6/8.1 MB 235.0 kB/s eta 0:00:28\n",
      "   ------- -------------------------------- 1.6/8.1 MB 235.0 kB/s eta 0:00:28\n",
      "   ------- -------------------------------- 1.6/8.1 MB 235.0 kB/s eta 0:00:28\n",
      "   ------- -------------------------------- 1.6/8.1 MB 235.0 kB/s eta 0:00:28\n",
      "   --------- ------------------------------ 1.8/8.1 MB 251.7 kB/s eta 0:00:25\n",
      "   --------- ------------------------------ 1.8/8.1 MB 251.7 kB/s eta 0:00:25\n",
      "   ---------- ----------------------------- 2.1/8.1 MB 270.6 kB/s eta 0:00:23\n",
      "   ---------- ----------------------------- 2.1/8.1 MB 270.6 kB/s eta 0:00:23\n",
      "   ----------- ---------------------------- 2.4/8.1 MB 289.9 kB/s eta 0:00:20\n",
      "   ----------- ---------------------------- 2.4/8.1 MB 289.9 kB/s eta 0:00:20\n",
      "   ------------- -------------------------- 2.6/8.1 MB 308.2 kB/s eta 0:00:18\n",
      "   ------------- -------------------------- 2.6/8.1 MB 308.2 kB/s eta 0:00:18\n",
      "   -------------- ------------------------- 2.9/8.1 MB 326.4 kB/s eta 0:00:16\n",
      "   -------------- ------------------------- 2.9/8.1 MB 326.4 kB/s eta 0:00:16\n",
      "   --------------- ------------------------ 3.1/8.1 MB 344.3 kB/s eta 0:00:15\n",
      "   --------------- ------------------------ 3.1/8.1 MB 344.3 kB/s eta 0:00:15\n",
      "   ---------------- ----------------------- 3.4/8.1 MB 358.2 kB/s eta 0:00:13\n",
      "   ---------------- ----------------------- 3.4/8.1 MB 358.2 kB/s eta 0:00:13\n",
      "   ---------------- ----------------------- 3.4/8.1 MB 358.2 kB/s eta 0:00:13\n",
      "   ---------------- ----------------------- 3.4/8.1 MB 358.2 kB/s eta 0:00:13\n",
      "   ---------------- ----------------------- 3.4/8.1 MB 358.2 kB/s eta 0:00:13\n",
      "   ------------------ --------------------- 3.7/8.1 MB 345.1 kB/s eta 0:00:13\n",
      "   ------------------ --------------------- 3.7/8.1 MB 345.1 kB/s eta 0:00:13\n",
      "   ------------------ --------------------- 3.7/8.1 MB 345.1 kB/s eta 0:00:13\n",
      "   ------------------ --------------------- 3.7/8.1 MB 345.1 kB/s eta 0:00:13\n",
      "   ------------------- -------------------- 3.9/8.1 MB 342.9 kB/s eta 0:00:13\n",
      "   ------------------- -------------------- 3.9/8.1 MB 342.9 kB/s eta 0:00:13\n",
      "   ------------------- -------------------- 3.9/8.1 MB 342.9 kB/s eta 0:00:13\n",
      "   -------------------- ------------------- 4.2/8.1 MB 348.1 kB/s eta 0:00:12\n",
      "   -------------------- ------------------- 4.2/8.1 MB 348.1 kB/s eta 0:00:12\n",
      "   ---------------------- ----------------- 4.5/8.1 MB 355.5 kB/s eta 0:00:11\n",
      "   ---------------------- ----------------- 4.5/8.1 MB 355.5 kB/s eta 0:00:11\n",
      "   ---------------------- ----------------- 4.5/8.1 MB 355.5 kB/s eta 0:00:11\n",
      "   ---------------------- ----------------- 4.5/8.1 MB 355.5 kB/s eta 0:00:11\n",
      "   ----------------------- ---------------- 4.7/8.1 MB 356.1 kB/s eta 0:00:10\n",
      "   ----------------------- ---------------- 4.7/8.1 MB 356.1 kB/s eta 0:00:10\n",
      "   ----------------------- ---------------- 4.7/8.1 MB 356.1 kB/s eta 0:00:10\n",
      "   ------------------------ --------------- 5.0/8.1 MB 356.6 kB/s eta 0:00:09\n",
      "   ------------------------ --------------- 5.0/8.1 MB 356.6 kB/s eta 0:00:09\n",
      "   ------------------------ --------------- 5.0/8.1 MB 356.6 kB/s eta 0:00:09\n",
      "   -------------------------- ------------- 5.2/8.1 MB 360.6 kB/s eta 0:00:08\n",
      "   -------------------------- ------------- 5.2/8.1 MB 360.6 kB/s eta 0:00:08\n",
      "   --------------------------- ------------ 5.5/8.1 MB 366.3 kB/s eta 0:00:07\n",
      "   --------------------------- ------------ 5.5/8.1 MB 366.3 kB/s eta 0:00:07\n",
      "   ---------------------------- ----------- 5.8/8.1 MB 372.4 kB/s eta 0:00:07\n",
      "   ---------------------------- ----------- 5.8/8.1 MB 372.4 kB/s eta 0:00:07\n",
      "   ----------------------------- ---------- 6.0/8.1 MB 380.1 kB/s eta 0:00:06\n",
      "   ----------------------------- ---------- 6.0/8.1 MB 380.1 kB/s eta 0:00:06\n",
      "   ------------------------------- -------- 6.3/8.1 MB 388.2 kB/s eta 0:00:05\n",
      "   ------------------------------- -------- 6.3/8.1 MB 388.2 kB/s eta 0:00:05\n",
      "   -------------------------------- ------- 6.6/8.1 MB 395.9 kB/s eta 0:00:04\n",
      "   --------------------------------- ------ 6.8/8.1 MB 402.1 kB/s eta 0:00:04\n",
      "   --------------------------------- ------ 6.8/8.1 MB 402.1 kB/s eta 0:00:04\n",
      "   ----------------------------------- ---- 7.1/8.1 MB 408.8 kB/s eta 0:00:03\n",
      "   ----------------------------------- ---- 7.1/8.1 MB 408.8 kB/s eta 0:00:03\n",
      "   ------------------------------------ --- 7.3/8.1 MB 415.6 kB/s eta 0:00:02\n",
      "   ------------------------------------ --- 7.3/8.1 MB 415.6 kB/s eta 0:00:02\n",
      "   ------------------------------------- -- 7.6/8.1 MB 422.4 kB/s eta 0:00:02\n",
      "   ---------------------------------------  7.9/8.1 MB 429.1 kB/s eta 0:00:01\n",
      "   ---------------------------------------  7.9/8.1 MB 429.1 kB/s eta 0:00:01\n",
      "   ---------------------------------------- 8.1/8.1 MB 433.8 kB/s eta 0:00:00\n",
      "Downloading contourpy-1.3.1-cp312-cp312-win_amd64.whl (220 kB)\n",
      "Downloading cycler-0.12.1-py3-none-any.whl (8.3 kB)\n",
      "Downloading fonttools-4.56.0-cp312-cp312-win_amd64.whl (2.2 MB)\n",
      "   ---------------------------------------- 0.0/2.2 MB ? eta -:--:--\n",
      "   ---------------------------------------- 0.0/2.2 MB ? eta -:--:--\n",
      "   ---------------------------------------- 0.0/2.2 MB ? eta -:--:--\n",
      "   ---------------------------------------- 0.0/2.2 MB ? eta -:--:--\n",
      "   ---- ----------------------------------- 0.3/2.2 MB ? eta -:--:--\n",
      "   ---- ----------------------------------- 0.3/2.2 MB ? eta -:--:--\n",
      "   ---- ----------------------------------- 0.3/2.2 MB ? eta -:--:--\n",
      "   ---- ----------------------------------- 0.3/2.2 MB ? eta -:--:--\n",
      "   --------- ------------------------------ 0.5/2.2 MB 365.1 kB/s eta 0:00:05\n",
      "   --------- ------------------------------ 0.5/2.2 MB 365.1 kB/s eta 0:00:05\n",
      "   --------- ------------------------------ 0.5/2.2 MB 365.1 kB/s eta 0:00:05\n",
      "   --------- ------------------------------ 0.5/2.2 MB 365.1 kB/s eta 0:00:05\n",
      "   --------- ------------------------------ 0.5/2.2 MB 365.1 kB/s eta 0:00:05\n",
      "   --------- ------------------------------ 0.5/2.2 MB 365.1 kB/s eta 0:00:05\n",
      "   --------- ------------------------------ 0.5/2.2 MB 365.1 kB/s eta 0:00:05\n",
      "   -------------- ------------------------- 0.8/2.2 MB 239.7 kB/s eta 0:00:06\n",
      "   -------------- ------------------------- 0.8/2.2 MB 239.7 kB/s eta 0:00:06\n",
      "   -------------- ------------------------- 0.8/2.2 MB 239.7 kB/s eta 0:00:06\n",
      "   -------------- ------------------------- 0.8/2.2 MB 239.7 kB/s eta 0:00:06\n",
      "   ------------------- -------------------- 1.0/2.2 MB 260.8 kB/s eta 0:00:05\n",
      "   ------------------- -------------------- 1.0/2.2 MB 260.8 kB/s eta 0:00:05\n",
      "   ------------------- -------------------- 1.0/2.2 MB 260.8 kB/s eta 0:00:05\n",
      "   ----------------------- ---------------- 1.3/2.2 MB 285.6 kB/s eta 0:00:04\n",
      "   ----------------------- ---------------- 1.3/2.2 MB 285.6 kB/s eta 0:00:04\n",
      "   ---------------------------- ----------- 1.6/2.2 MB 313.0 kB/s eta 0:00:02\n",
      "   ---------------------------- ----------- 1.6/2.2 MB 313.0 kB/s eta 0:00:02\n",
      "   --------------------------------- ------ 1.8/2.2 MB 340.1 kB/s eta 0:00:02\n",
      "   --------------------------------- ------ 1.8/2.2 MB 340.1 kB/s eta 0:00:02\n",
      "   -------------------------------------- - 2.1/2.2 MB 362.5 kB/s eta 0:00:01\n",
      "   ---------------------------------------- 2.2/2.2 MB 370.5 kB/s eta 0:00:00\n",
      "Downloading kiwisolver-1.4.8-cp312-cp312-win_amd64.whl (71 kB)\n",
      "Downloading pyparsing-3.2.1-py3-none-any.whl (107 kB)\n",
      "Installing collected packages: pyparsing, kiwisolver, fonttools, cycler, contourpy, matplotlib\n",
      "Successfully installed contourpy-1.3.1 cycler-0.12.1 fonttools-4.56.0 kiwisolver-1.4.8 matplotlib-3.10.1 pyparsing-3.2.1\n"
     ]
    }
   ],
   "source": [
    "!pip install matplotlib"
   ]
  },
  {
   "cell_type": "code",
   "execution_count": 2,
   "id": "daae72b3-4382-4c8e-b7e9-a4fdfdfa9114",
   "metadata": {},
   "outputs": [],
   "source": [
    "import matplotlib.pyplot as plt"
   ]
  },
  {
   "cell_type": "code",
   "execution_count": 10,
   "id": "767ea159-909d-4864-94a1-5f6813fa02dc",
   "metadata": {},
   "outputs": [
    {
     "data": {
      "image/png": "[encoded data removed]",
      "text/plain": [
       "<Figure size 640x480 with 1 Axes>"
      ]
     },
     "metadata": {},
     "output_type": "display_data"
    }
   ],
   "source": [
    "x= [1,2,3,4,5]\n",
    "y = [100,200,300,400,500]\n",
    "\n",
    "plt.plot(x,y , marker=\"8\",linestyle = \"dashed\",color=\"red\") # internet sitesinden kütüphaneninn bakarak marker değerlerini bula bilirsin\n",
    "plt.grid()\n",
    "plt.xlabel = \"günler\"\n",
    "plt.ylabel = \"satışlar\"\n",
    "\n",
    "plt.show()"
   ]
  },
  {
   "cell_type": "code",
   "execution_count": 11,
   "id": "ea86b9b9-aef1-457c-9657-13b0030f44f7",
   "metadata": {},
   "outputs": [],
   "source": [
    "# çizgi grafikleri "
   ]
  },
  {
   "cell_type": "code",
   "execution_count": 12,
   "id": "27da6133-a003-42fd-8c18-0037c79d58ac",
   "metadata": {},
   "outputs": [],
   "source": [
    "import numpy as np\n",
    "x= np.linspace(0,10,100) # 0ile 10 arasında eşit aralıklarda 100 sayı oluştur"
   ]
  },
  {
   "cell_type": "code",
   "execution_count": 13,
   "id": "f464b501-db5d-4426-8ce6-a53eefdc7a5e",
   "metadata": {},
   "outputs": [],
   "source": [
    "# x değerinin sinüs ve cos cizgi grafiğini tek grafikte göster"
   ]
  },
  {
   "cell_type": "code",
   "execution_count": 14,
   "id": "2918f733-68c2-4dfd-bb4e-42a0a1db2ecf",
   "metadata": {},
   "outputs": [],
   "source": [
    "y1 = np.sin(x)\n",
    "y2 = np.cos(x)"
   ]
  },
  {
   "cell_type": "code",
   "execution_count": 16,
   "id": "f4d2eaa5-c993-4ea7-9421-03398283772a",
   "metadata": {},
   "outputs": [
    {
     "data": {
      "text/plain": [
       "[<matplotlib.lines.Line2D at 0x28afa63cec0>]"
      ]
     },
     "execution_count": 16,
     "metadata": {},
     "output_type": "execute_result"
    },
    {
     "data": {
      "image/png": "[encoded data removed]",
      "text/plain": [
       "<Figure size 800x600 with 1 Axes>"
      ]
     },
     "metadata": {},
     "output_type": "display_data"
    }
   ],
   "source": [
    "# plt.plot() -> direkt kullanılırsa tekil bir çizgi grafiği verir\n",
    "\n",
    "plt.figure(figsize=(8,6)) # yeni boş bi kağıt gibi düşünelim.\n",
    "plt.plot(x,y1)\n",
    "plt.plot(x,y2)"
   ]
  },
  {
   "cell_type": "markdown",
   "id": "9c4bda03-d780-4800-b2aa-f65436958a17",
   "metadata": {},
   "source": [
    "## bar grafiği \n"
   ]
  },
  {
   "cell_type": "code",
   "execution_count": 18,
   "id": "7a7a71c6-d59d-4401-9e0d-8c092117fa29",
   "metadata": {},
   "outputs": [
    {
     "ename": "NameError",
     "evalue": "name 'categories' is not defined",
     "output_type": "error",
     "traceback": [
      "\u001b[31m---------------------------------------------------------------------------\u001b[39m",
      "\u001b[31mNameError\u001b[39m                                 Traceback (most recent call last)",
      "\u001b[36mCell\u001b[39m\u001b[36m \u001b[39m\u001b[32mIn[18]\u001b[39m\u001b[32m, line 1\u001b[39m\n\u001b[32m----> \u001b[39m\u001b[32m1\u001b[39m plt.bar(\u001b[43mcategories\u001b[49m,values,color = [\u001b[33m\"\u001b[39m\u001b[33mred\u001b[39m\u001b[33m\"\u001b[39m,\u001b[33m\"\u001b[39m\u001b[33mgreen\u001b[39m\u001b[33m\"\u001b[39m,\u001b[33m\"\u001b[39m\u001b[33mblue\u001b[39m\u001b[33m\"\u001b[39m])\n\u001b[32m      2\u001b[39m plt.xlabel(\u001b[33m\"\u001b[39m\u001b[33mKatagoriler\u001b[39m\u001b[33m\"\u001b[39m)\n\u001b[32m      3\u001b[39m plt.ylabel(\u001b[33m\"\u001b[39m\u001b[33mSatışdeğerleri\u001b[39m\u001b[33m\"\u001b[39m)\n",
      "\u001b[31mNameError\u001b[39m: name 'categories' is not defined"
     ]
    }
   ],
   "source": [
    "plt.bar(categories,values,color = [\"red\",\"green\",\"blue\"])\n",
    "plt.xlabel(\"Katagoriler\")\n",
    "plt.ylabel(\"Satışdeğerleri\")\n",
    "plt.title(\"katagori bazlı satış grafiği\")\n",
    "plt.show()"
   ]
  },
  {
   "cell_type": "markdown",
   "id": "0c2a9cca-72dc-40d7-ae8c-c3fca448f891",
   "metadata": {},
   "source": [
    "## Histogram (veri dağılımı)"
   ]
  },
  {
   "cell_type": "code",
   "execution_count": 19,
   "id": "9a342d3a-527d-4b74-b072-751d8238c72e",
   "metadata": {},
   "outputs": [],
   "source": [
    "data = np.random.randint(0,100,1000)\n"
   ]
  },
  {
   "cell_type": "code",
   "execution_count": 20,
   "id": "72961c90-6de3-4006-937a-775c7b8b590d",
   "metadata": {},
   "outputs": [
    {
     "data": {
      "image/png": "[encoded data removed]",
      "text/plain": [
       "<Figure size 640x480 with 1 Axes>"
      ]
     },
     "metadata": {},
     "output_type": "display_data"
    }
   ],
   "source": [
    "plt.hist(data, bins=30,color=\"skyblue\",edgecolor=\"black\")\n",
    "plt.show()\n",
    "## 100/10 => 10\n",
    "##100/30 => 3.33"
   ]
  },
  {
   "cell_type": "code",
   "execution_count": 23,
   "id": "ab7f9fdb-b17c-41eb-b748-00d12854e2ed",
   "metadata": {},
   "outputs": [],
   "source": [
    "### regression ile Denetimli Makina öğrenmesi (bir sonraki ders )\n",
    "## linear regression\n",
    "## decesion tree\n",
    "## random forest"
   ]
  },
  {
   "cell_type": "code",
   "execution_count": null,
   "id": "f396613b-db85-408a-aa88-d9999f1132d7",
   "metadata": {},
   "outputs": [],
   "source": []
  }
 ],
 "metadata": {
  "kernelspec": {
   "display_name": "Python 3 (ipykernel)",
   "language": "python",
   "name": "python3"
  },
  "language_info": {
   "codemirror_mode": {
    "name": "ipython",
    "version": 3
   },
   "file_extension": ".py",
   "mimetype": "text/x-python",
   "name": "python",
   "nbconvert_exporter": "python",
   "pygments_lexer": "ipython3",
   "version": "3.12.9"
  }
 },
 "nbformat": 4,
 "nbformat_minor": 5
}
