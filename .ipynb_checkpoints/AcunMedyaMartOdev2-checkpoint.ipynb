{
 "cells": [
  {
   "cell_type": "code",
   "execution_count": 1,
   "id": "8023c2b5-ebef-4221-a5d8-cb43ed666ba4",
   "metadata": {},
   "outputs": [],
   "source": [
    "import numpy as np"
   ]
  },
  {
   "cell_type": "markdown",
   "id": "6f3e0fbc-0167-4a8e-b04e-d619422e39d6",
   "metadata": {},
   "source": [
    "## .shape -> kaç satır ve stün olduğunu tuple nesnesi olarak döndürür\n"
   ]
  },
  {
   "cell_type": "code",
   "execution_count": 5,
   "id": "99304298-c408-4a4c-b168-f2fb02212c85",
   "metadata": {},
   "outputs": [
    {
     "name": "stdout",
     "output_type": "stream",
     "text": [
      "(6,)\n",
      "(2, 6)\n"
     ]
    }
   ],
   "source": [
    "nd_1d = np.array([1,2,3,4,5,7])\n",
    "nd_2d = np.array([[1,2,3,4,5,7], [2,3,4,5,6,7]])\n",
    "\n",
    "print(nd_1d.shape)\n",
    "print(nd_2d.shape)\n"
   ]
  },
  {
   "cell_type": "markdown",
   "id": "f3b27fd9-103d-443c-8d8e-5927f0a82461",
   "metadata": {},
   "source": [
    "## reshape() -> arrayi yeniden şekillendirmek istediğimizde yani satır ve sütun sayısını değiştirmek istediğimizde kullanılır"
   ]
  },
  {
   "cell_type": "code",
   "execution_count": 14,
   "id": "3fd0138e-122a-43dc-a148-d86f841a858b",
   "metadata": {},
   "outputs": [
    {
     "name": "stdout",
     "output_type": "stream",
     "text": [
      "(10,)\n",
      "[[0 1]\n",
      " [2 3]\n",
      " [4 5]\n",
      " [6 7]\n",
      " [8 9]]\n",
      "(5, 2)\n"
     ]
    }
   ],
   "source": [
    "nd_array = np.array([0, 1, 2, 3, 4, 5, 6, 7, 8, 9])\n",
    "print(nd_array.shape)\n",
    "print(nd_array.reshape(5,2))\n",
    "print(nd_array.reshape(5,2).shape)"
   ]
  },
  {
   "cell_type": "markdown",
   "id": "609c9497-32a4-4cc3-9799-1f11e71cc13f",
   "metadata": {},
   "source": [
    "## .zeros() -> bu fonksiyon belirtilen satır ve sütuna sahip 0'lardan oluşan bir matris döndürür"
   ]
  },
  {
   "cell_type": "code",
   "execution_count": 20,
   "id": "2e437fad-0cff-44f8-8896-42ef91af1e72",
   "metadata": {},
   "outputs": [
    {
     "data": {
      "text/plain": [
       "array([[0., 0., 0.],\n",
       "       [0., 0., 0.]])"
      ]
     },
     "execution_count": 20,
     "metadata": {},
     "output_type": "execute_result"
    }
   ],
   "source": [
    "np.zeros((2,3))"
   ]
  },
  {
   "cell_type": "markdown",
   "id": "4e5de541-facb-4d20-beef-054e8a735bce",
   "metadata": {},
   "source": [
    "## .eye() -> belirlenen boyutlarda birim matris oluşturmamızı sağlar"
   ]
  },
  {
   "cell_type": "code",
   "execution_count": 24,
   "id": "e2d6c6fa-3cae-4719-9f9f-70ced01127c7",
   "metadata": {},
   "outputs": [
    {
     "data": {
      "text/plain": [
       "array([[1., 0., 0., 0., 0.],\n",
       "       [0., 1., 0., 0., 0.],\n",
       "       [0., 0., 1., 0., 0.],\n",
       "       [0., 0., 0., 1., 0.],\n",
       "       [0., 0., 0., 0., 1.]])"
      ]
     },
     "execution_count": 24,
     "metadata": {},
     "output_type": "execute_result"
    }
   ],
   "source": [
    "np.eye(5,5)"
   ]
  },
  {
   "cell_type": "markdown",
   "id": "6fbb3814-d677-485a-b676-3084c9e49e5f",
   "metadata": {},
   "source": [
    "## linspace() -> İki değer arasında eşit oranlı olacak şekilde değerler oluşturmak için kullanılır."
   ]
  },
  {
   "cell_type": "code",
   "execution_count": 25,
   "id": "bfb8c91f-a135-43ad-bb01-a40efb4583da",
   "metadata": {},
   "outputs": [
    {
     "name": "stdout",
     "output_type": "stream",
     "text": [
      "[5.   5.25 5.5  5.75 6.  ]\n"
     ]
    }
   ],
   "source": [
    "nd = np.linspace(5, 6, num=5)\n",
    "print(nd)"
   ]
  },
  {
   "cell_type": "markdown",
   "id": "4d72bb4f-bdd6-4dd2-9501-5520da3add0b",
   "metadata": {},
   "source": [
    "## all() -> Tüm elemanların verilen şartı sağlayıp sağlamadığını kontrol etmek için kullanılır."
   ]
  },
  {
   "cell_type": "code",
   "execution_count": 27,
   "id": "28a21fc0-e55f-4fa0-8c31-841dfc0dc3c3",
   "metadata": {},
   "outputs": [
    {
     "data": {
      "text/plain": [
       "np.False_"
      ]
     },
     "execution_count": 27,
     "metadata": {},
     "output_type": "execute_result"
    }
   ],
   "source": [
    "nd = np.array([1,2,3])\n",
    "np.all(nd < -1)"
   ]
  },
  {
   "cell_type": "markdown",
   "id": "f325bf60-ba63-4a9c-a120-9dbe1aeba776",
   "metadata": {},
   "source": [
    "## concatenate() ->İki numpy array nesnesini bu metodu ile birleştiririz."
   ]
  },
  {
   "cell_type": "code",
   "execution_count": 28,
   "id": "e82185db-349a-4705-84b5-ac786a5ec7ec",
   "metadata": {},
   "outputs": [
    {
     "name": "stdout",
     "output_type": "stream",
     "text": [
      "[1 2 3 4 5 6]\n"
     ]
    }
   ],
   "source": [
    "nd1 = np.array([1,2,3])\n",
    "nd2 = np.array([4,5,6])\n",
    "nd3 = np.concatenate([nd1, nd2])\n",
    "print(nd3)"
   ]
  },
  {
   "cell_type": "markdown",
   "id": "9cf2961d-e53e-4e3c-85cb-2c5ce26744cf",
   "metadata": {},
   "source": [
    "## dot() -> matrikx çarpımı yapmak için kullanılır "
   ]
  },
  {
   "cell_type": "code",
   "execution_count": 29,
   "id": "6658d49a-7f5b-48d2-8342-0aa8871f2608",
   "metadata": {},
   "outputs": [
    {
     "name": "stdout",
     "output_type": "stream",
     "text": [
      "[[ 4  4]\n",
      " [10  8]]\n"
     ]
    }
   ],
   "source": [
    "a = np.array([[1, 2], [3, 4]])\n",
    "b = np.array([[2, 0], [1, 2]])\n",
    "result = np.dot(a, b)\n",
    "print(result)"
   ]
  },
  {
   "cell_type": "markdown",
   "id": "b1ab78ca-b873-416e-a299-197ef83723df",
   "metadata": {},
   "source": [
    "## full()-> belirtilen elman la belirtilen boyuta sadece o elemandan oluşan matrikx oluşturur"
   ]
  },
  {
   "cell_type": "code",
   "execution_count": 30,
   "id": "5abf548a-cb08-4dc4-b167-5b59cdd38632",
   "metadata": {},
   "outputs": [
    {
     "name": "stdout",
     "output_type": "stream",
     "text": [
      "[[7 7 7]\n",
      " [7 7 7]]\n"
     ]
    }
   ],
   "source": [
    "arr = np.full((2, 3), 7)\n",
    "print(arr)"
   ]
  },
  {
   "cell_type": "markdown",
   "id": "dc84c05e-b357-4ff7-9b82-b027581241a2",
   "metadata": {},
   "source": [
    "## arange() -> beli aralıkta beli aralıklar la artan değerde bir dizi oluşturur"
   ]
  },
  {
   "cell_type": "code",
   "execution_count": 31,
   "id": "5d4e340b-ad43-4738-b529-6779d9dba7a8",
   "metadata": {},
   "outputs": [
    {
     "name": "stdout",
     "output_type": "stream",
     "text": [
      "[0 2 4 6 8]\n"
     ]
    }
   ],
   "source": [
    "arr = np.arange(0, 10, 2)\n",
    "print(arr)"
   ]
  },
  {
   "cell_type": "code",
   "execution_count": null,
   "id": "6022903f-521c-468d-8511-975e00edbeda",
   "metadata": {},
   "outputs": [],
   "source": []
  }
 ],
 "metadata": {
  "kernelspec": {
   "display_name": "Python 3 (ipykernel)",
   "language": "python",
   "name": "python3"
  },
  "language_info": {
   "codemirror_mode": {
    "name": "ipython",
    "version": 3
   },
   "file_extension": ".py",
   "mimetype": "text/x-python",
   "name": "python",
   "nbconvert_exporter": "python",
   "pygments_lexer": "ipython3",
   "version": "3.12.9"
  }
 },
 "nbformat": 4,
 "nbformat_minor": 5
}
