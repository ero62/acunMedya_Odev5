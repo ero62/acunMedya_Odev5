{
 "cells": [
  {
   "cell_type": "markdown",
   "id": "fdb59a92-b3a0-443e-a6f0-12e3805273e5",
   "metadata": {},
   "source": [
    "## Numpy(Numeric Python)\n",
    "### Matematik bilimindeki işlemleri yapabilen aşırı hızlı bir kütüphane .(c ve fortran dilindeki yazılması)"
   ]
  },
  {
   "cell_type": "code",
   "execution_count": 1,
   "id": "d974d038-8a79-4878-bfcd-b90bf04c3fc9",
   "metadata": {},
   "outputs": [
    {
     "name": "stdout",
     "output_type": "stream",
     "text": [
      "Requirement already satisfied: numpy in c:\\users\\admin\\anaconda3\\envs\\env\\lib\\site-packages (2.2.3)\n"
     ]
    }
   ],
   "source": [
    "!pip install numpy"
   ]
  },
  {
   "cell_type": "code",
   "execution_count": 3,
   "id": "e64d310f-63c4-46e7-ac72-a94326976fc3",
   "metadata": {},
   "outputs": [],
   "source": [
    "import numpy as np"
   ]
  },
  {
   "cell_type": "code",
   "execution_count": 4,
   "id": "fa452ce0-2cd9-4a25-8142-12b235ef0327",
   "metadata": {},
   "outputs": [
    {
     "data": {
      "text/plain": [
       "array([1, 2, 3, 4, 5])"
      ]
     },
     "execution_count": 4,
     "metadata": {},
     "output_type": "execute_result"
    }
   ],
   "source": [
    "## ndarray -> N Dimension\n",
    "\n",
    "np_arr = np.array([1,2,3,4,5])\n",
    "np_arr"
   ]
  },
  {
   "cell_type": "code",
   "execution_count": 6,
   "id": "08649c17-784f-474b-a7df-80e61be952a0",
   "metadata": {},
   "outputs": [
    {
     "data": {
      "text/plain": [
       "[10, 20, 30, 40, 50]"
      ]
     },
     "execution_count": 6,
     "metadata": {},
     "output_type": "execute_result"
    }
   ],
   "source": [
    "python_arr =  [10,20,30,40,50]\n",
    "python_arr"
   ]
  },
  {
   "cell_type": "code",
   "execution_count": 8,
   "id": "6f17bbbc-59cd-4b0a-8453-a5f2f9dc6a39",
   "metadata": {},
   "outputs": [
    {
     "data": {
      "text/plain": [
       "(numpy.ndarray, list)"
      ]
     },
     "execution_count": 8,
     "metadata": {},
     "output_type": "execute_result"
    }
   ],
   "source": [
    "type(np_arr),type(python_arr)\n"
   ]
  },
  {
   "cell_type": "code",
   "execution_count": 9,
   "id": "b0f18b94-1820-483b-ac1b-be70033f7926",
   "metadata": {},
   "outputs": [],
   "source": [
    "p_array2 =list(range(1000000))\n",
    "n_array2 = np.array(p_array2)"
   ]
  },
  {
   "cell_type": "code",
   "execution_count": 10,
   "id": "e8883eb6-dc4a-43f0-80de-824651e28c13",
   "metadata": {},
   "outputs": [
    {
     "name": "stdout",
     "output_type": "stream",
     "text": [
      "66.8 ms ± 2.93 ms per loop (mean ± std. dev. of 7 runs, 10 loops each)\n"
     ]
    }
   ],
   "source": [
    "%%timeit # süresini ölcer alta ne kod varsa \n",
    "[x+1 for x in p_array2 ]"
   ]
  },
  {
   "cell_type": "code",
   "execution_count": 11,
   "id": "7a3d4ca6-fa86-4cce-9ef2-3ceee4740da5",
   "metadata": {},
   "outputs": [
    {
     "name": "stdout",
     "output_type": "stream",
     "text": [
      "2.69 ms ± 64.1 μs per loop (mean ± std. dev. of 7 runs, 100 loops each)\n"
     ]
    }
   ],
   "source": [
    "%%timeit\n",
    "n_array2 + 1 "
   ]
  },
  {
   "cell_type": "code",
   "execution_count": 12,
   "id": "74ee4ef5-b39f-4218-9549-da802ee738fc",
   "metadata": {},
   "outputs": [
    {
     "data": {
      "text/plain": [
       "(1000000,)"
      ]
     },
     "execution_count": 12,
     "metadata": {},
     "output_type": "execute_result"
    }
   ],
   "source": [
    "n_array2.shape"
   ]
  },
  {
   "cell_type": "markdown",
   "id": "33520948-b39a-4d76-845d-57128ae8ce56",
   "metadata": {},
   "source": [
    "### nunpy da 10 adet fonksiyon araştırılıp kullanım amaçları birlikte örneklendirdiğimiz bir ipynp dosyasını hazırlayalım\n",
    "## matrisler , tensorflow araştır"
   ]
  },
  {
   "cell_type": "code",
   "execution_count": null,
   "id": "7536c68f-4baf-4b14-96c8-2434a65256cf",
   "metadata": {},
   "outputs": [],
   "source": []
  }
 ],
 "metadata": {
  "kernelspec": {
   "display_name": "Python 3 (ipykernel)",
   "language": "python",
   "name": "python3"
  },
  "language_info": {
   "codemirror_mode": {
    "name": "ipython",
    "version": 3
   },
   "file_extension": ".py",
   "mimetype": "text/x-python",
   "name": "python",
   "nbconvert_exporter": "python",
   "pygments_lexer": "ipython3",
   "version": "3.12.9"
  }
 },
 "nbformat": 4,
 "nbformat_minor": 5
}
