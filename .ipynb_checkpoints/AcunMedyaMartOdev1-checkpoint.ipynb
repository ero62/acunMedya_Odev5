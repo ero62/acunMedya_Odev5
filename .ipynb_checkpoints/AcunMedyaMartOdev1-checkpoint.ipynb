{
 "cells": [
  {
   "cell_type": "code",
   "execution_count": 13,
   "id": "f939f45f-525d-4613-8fdc-f08cf4eddb88",
   "metadata": {},
   "outputs": [
    {
     "data": {
      "text/html": [
       "<div>\n",
       "<style scoped>\n",
       "    .dataframe tbody tr th:only-of-type {\n",
       "        vertical-align: middle;\n",
       "    }\n",
       "\n",
       "    .dataframe tbody tr th {\n",
       "        vertical-align: top;\n",
       "    }\n",
       "\n",
       "    .dataframe thead th {\n",
       "        text-align: right;\n",
       "    }\n",
       "</style>\n",
       "<table border=\"1\" class=\"dataframe\">\n",
       "  <thead>\n",
       "    <tr style=\"text-align: right;\">\n",
       "      <th></th>\n",
       "      <th>Columns1</th>\n",
       "      <th>Columns2</th>\n",
       "      <th>Columns3</th>\n",
       "      <th>Columns4</th>\n",
       "      <th>Columns5</th>\n",
       "    </tr>\n",
       "  </thead>\n",
       "  <tbody>\n",
       "    <tr>\n",
       "      <th>a</th>\n",
       "      <td>-1.735525</td>\n",
       "      <td>-2.457908</td>\n",
       "      <td>0.855288</td>\n",
       "      <td>-0.157196</td>\n",
       "      <td>-0.146044</td>\n",
       "    </tr>\n",
       "    <tr>\n",
       "      <th>b</th>\n",
       "      <td>-2.296553</td>\n",
       "      <td>1.318716</td>\n",
       "      <td>1.465150</td>\n",
       "      <td>0.961876</td>\n",
       "      <td>1.825504</td>\n",
       "    </tr>\n",
       "    <tr>\n",
       "      <th>c</th>\n",
       "      <td>0.836938</td>\n",
       "      <td>-0.990771</td>\n",
       "      <td>-0.148286</td>\n",
       "      <td>0.095041</td>\n",
       "      <td>1.214360</td>\n",
       "    </tr>\n",
       "    <tr>\n",
       "      <th>d</th>\n",
       "      <td>-2.460543</td>\n",
       "      <td>-0.793984</td>\n",
       "      <td>-2.429308</td>\n",
       "      <td>-0.494203</td>\n",
       "      <td>-0.863856</td>\n",
       "    </tr>\n",
       "    <tr>\n",
       "      <th>e</th>\n",
       "      <td>0.029376</td>\n",
       "      <td>2.519365</td>\n",
       "      <td>-1.324103</td>\n",
       "      <td>0.745272</td>\n",
       "      <td>-0.874746</td>\n",
       "    </tr>\n",
       "  </tbody>\n",
       "</table>\n",
       "</div>"
      ],
      "text/plain": [
       "   Columns1  Columns2  Columns3  Columns4  Columns5\n",
       "a -1.735525 -2.457908  0.855288 -0.157196 -0.146044\n",
       "b -2.296553  1.318716  1.465150  0.961876  1.825504\n",
       "c  0.836938 -0.990771 -0.148286  0.095041  1.214360\n",
       "d -2.460543 -0.793984 -2.429308 -0.494203 -0.863856\n",
       "e  0.029376  2.519365 -1.324103  0.745272 -0.874746"
      ]
     },
     "execution_count": 13,
     "metadata": {},
     "output_type": "execute_result"
    }
   ],
   "source": [
    "from numpy.random import randn\n",
    "import pandas as pd\n",
    "\n",
    "df = pd.DataFrame(data=randn(5, 5),\n",
    "                  index=['a', 'b', 'c', 'd', 'e'],\n",
    "                  columns=['Columns1', 'Columns2', 'Columns3', 'Columns4', 'Columns5'])\n",
    "df"
   ]
  },
  {
   "cell_type": "markdown",
   "id": "4f3e8237-8cdb-4182-a978-b537ee1d0d81",
   "metadata": {},
   "source": [
    "## 1 describe() ->"
   ]
  },
  {
   "cell_type": "code",
   "execution_count": 7,
   "id": "a2613f34-ec66-455a-bb5e-ee89f42cac74",
   "metadata": {},
   "outputs": [
    {
     "data": {
      "text/html": [
       "<div>\n",
       "<style scoped>\n",
       "    .dataframe tbody tr th:only-of-type {\n",
       "        vertical-align: middle;\n",
       "    }\n",
       "\n",
       "    .dataframe tbody tr th {\n",
       "        vertical-align: top;\n",
       "    }\n",
       "\n",
       "    .dataframe thead th {\n",
       "        text-align: right;\n",
       "    }\n",
       "</style>\n",
       "<table border=\"1\" class=\"dataframe\">\n",
       "  <thead>\n",
       "    <tr style=\"text-align: right;\">\n",
       "      <th></th>\n",
       "      <th>Columns1</th>\n",
       "      <th>Columns2</th>\n",
       "      <th>Columns3</th>\n",
       "      <th>Columns4</th>\n",
       "      <th>Columns5</th>\n",
       "    </tr>\n",
       "  </thead>\n",
       "  <tbody>\n",
       "    <tr>\n",
       "      <th>count</th>\n",
       "      <td>5.000000</td>\n",
       "      <td>5.000000</td>\n",
       "      <td>5.000000</td>\n",
       "      <td>5.000000</td>\n",
       "      <td>5.000000</td>\n",
       "    </tr>\n",
       "    <tr>\n",
       "      <th>mean</th>\n",
       "      <td>-0.617677</td>\n",
       "      <td>-0.651142</td>\n",
       "      <td>0.208368</td>\n",
       "      <td>0.487473</td>\n",
       "      <td>-0.624579</td>\n",
       "    </tr>\n",
       "    <tr>\n",
       "      <th>std</th>\n",
       "      <td>1.174088</td>\n",
       "      <td>0.704988</td>\n",
       "      <td>0.607770</td>\n",
       "      <td>0.558589</td>\n",
       "      <td>0.865552</td>\n",
       "    </tr>\n",
       "    <tr>\n",
       "      <th>min</th>\n",
       "      <td>-1.699437</td>\n",
       "      <td>-1.662575</td>\n",
       "      <td>-0.295953</td>\n",
       "      <td>-0.188293</td>\n",
       "      <td>-1.683302</td>\n",
       "    </tr>\n",
       "    <tr>\n",
       "      <th>25%</th>\n",
       "      <td>-1.697851</td>\n",
       "      <td>-0.884378</td>\n",
       "      <td>-0.276994</td>\n",
       "      <td>0.107348</td>\n",
       "      <td>-1.360019</td>\n",
       "    </tr>\n",
       "    <tr>\n",
       "      <th>50%</th>\n",
       "      <td>-0.647403</td>\n",
       "      <td>-0.496889</td>\n",
       "      <td>0.198495</td>\n",
       "      <td>0.441263</td>\n",
       "      <td>-0.261482</td>\n",
       "    </tr>\n",
       "    <tr>\n",
       "      <th>75%</th>\n",
       "      <td>-0.144094</td>\n",
       "      <td>-0.488257</td>\n",
       "      <td>0.214196</td>\n",
       "      <td>0.901625</td>\n",
       "      <td>-0.208336</td>\n",
       "    </tr>\n",
       "    <tr>\n",
       "      <th>max</th>\n",
       "      <td>1.100400</td>\n",
       "      <td>0.276389</td>\n",
       "      <td>1.202094</td>\n",
       "      <td>1.175424</td>\n",
       "      <td>0.390241</td>\n",
       "    </tr>\n",
       "  </tbody>\n",
       "</table>\n",
       "</div>"
      ],
      "text/plain": [
       "       Columns1  Columns2  Columns3  Columns4  Columns5\n",
       "count  5.000000  5.000000  5.000000  5.000000  5.000000\n",
       "mean  -0.617677 -0.651142  0.208368  0.487473 -0.624579\n",
       "std    1.174088  0.704988  0.607770  0.558589  0.865552\n",
       "min   -1.699437 -1.662575 -0.295953 -0.188293 -1.683302\n",
       "25%   -1.697851 -0.884378 -0.276994  0.107348 -1.360019\n",
       "50%   -0.647403 -0.496889  0.198495  0.441263 -0.261482\n",
       "75%   -0.144094 -0.488257  0.214196  0.901625 -0.208336\n",
       "max    1.100400  0.276389  1.202094  1.175424  0.390241"
      ]
     },
     "execution_count": 7,
     "metadata": {},
     "output_type": "execute_result"
    }
   ],
   "source": [
    "df.describe()"
   ]
  },
  {
   "cell_type": "markdown",
   "id": "3ba7d25f-751a-407f-8ad8-998470d58db4",
   "metadata": {},
   "source": [
    "## 2 info() -> DataFrame 'in sütun isimleri, veri tipleri ve eksik değerleri hakkında bilgi verir"
   ]
  },
  {
   "cell_type": "code",
   "execution_count": 8,
   "id": "90d1fb0b-c409-4805-8721-88628f74142d",
   "metadata": {},
   "outputs": [
    {
     "name": "stdout",
     "output_type": "stream",
     "text": [
      "<class 'pandas.core.frame.DataFrame'>\n",
      "Index: 5 entries, A to E\n",
      "Data columns (total 5 columns):\n",
      " #   Column    Non-Null Count  Dtype  \n",
      "---  ------    --------------  -----  \n",
      " 0   Columns1  5 non-null      float64\n",
      " 1   Columns2  5 non-null      float64\n",
      " 2   Columns3  5 non-null      float64\n",
      " 3   Columns4  5 non-null      float64\n",
      " 4   Columns5  5 non-null      float64\n",
      "dtypes: float64(5)\n",
      "memory usage: 240.0+ bytes\n"
     ]
    }
   ],
   "source": [
    "df.info()"
   ]
  },
  {
   "cell_type": "markdown",
   "id": "92f46b46-14d2-4b8a-8cba-6f8de63b4e16",
   "metadata": {},
   "source": [
    "## 3 groupby() -> belirli gruplara göre işlem yapılır\n"
   ]
  },
  {
   "cell_type": "code",
   "execution_count": 25,
   "id": "95d453c5-abad-4329-95fe-cae1ebab4b3f",
   "metadata": {},
   "outputs": [
    {
     "data": {
      "text/html": [
       "<div>\n",
       "<style scoped>\n",
       "    .dataframe tbody tr th:only-of-type {\n",
       "        vertical-align: middle;\n",
       "    }\n",
       "\n",
       "    .dataframe tbody tr th {\n",
       "        vertical-align: top;\n",
       "    }\n",
       "\n",
       "    .dataframe thead th {\n",
       "        text-align: right;\n",
       "    }\n",
       "</style>\n",
       "<table border=\"1\" class=\"dataframe\">\n",
       "  <thead>\n",
       "    <tr style=\"text-align: right;\">\n",
       "      <th></th>\n",
       "      <th>Columns1</th>\n",
       "      <th>Columns2</th>\n",
       "      <th>Columns3</th>\n",
       "      <th>Columns4</th>\n",
       "      <th>Columns5</th>\n",
       "    </tr>\n",
       "    <tr>\n",
       "      <th>Kategori</th>\n",
       "      <th></th>\n",
       "      <th></th>\n",
       "      <th></th>\n",
       "      <th></th>\n",
       "      <th></th>\n",
       "    </tr>\n",
       "  </thead>\n",
       "  <tbody>\n",
       "    <tr>\n",
       "      <th>A</th>\n",
       "      <td>-0.289737</td>\n",
       "      <td>-0.309771</td>\n",
       "      <td>-0.205700</td>\n",
       "      <td>0.227706</td>\n",
       "      <td>0.064523</td>\n",
       "    </tr>\n",
       "    <tr>\n",
       "      <th>B</th>\n",
       "      <td>-2.378548</td>\n",
       "      <td>0.262366</td>\n",
       "      <td>-0.482079</td>\n",
       "      <td>0.233837</td>\n",
       "      <td>0.480824</td>\n",
       "    </tr>\n",
       "  </tbody>\n",
       "</table>\n",
       "</div>"
      ],
      "text/plain": [
       "          Columns1  Columns2  Columns3  Columns4  Columns5\n",
       "Kategori                                                  \n",
       "A        -0.289737 -0.309771 -0.205700  0.227706  0.064523\n",
       "B        -2.378548  0.262366 -0.482079  0.233837  0.480824"
      ]
     },
     "execution_count": 25,
     "metadata": {},
     "output_type": "execute_result"
    }
   ],
   "source": [
    "#yeni bir katagori ekliyorum çünkü örnek frame de grouplama yapıla bilir bir bicim yok\n",
    "df[\"Kategori\"] = [\"A\", \"B\", \"A\", \"B\", \"A\"]  \n",
    "df_grouped = df.groupby(\"Kategori\").mean()\n",
    "\n",
    "df_grouped"
   ]
  },
  {
   "cell_type": "markdown",
   "id": "facc2521-9b52-47c3-8309-f12bb7467da8",
   "metadata": {},
   "source": [
    "## 4 sort_values(by=[]) -> bir sütuna göre sıralama yapar"
   ]
  },
  {
   "cell_type": "code",
   "execution_count": 30,
   "id": "26dbbb9b-dee5-47e0-9795-528f0550f10e",
   "metadata": {},
   "outputs": [
    {
     "data": {
      "text/html": [
       "<div>\n",
       "<style scoped>\n",
       "    .dataframe tbody tr th:only-of-type {\n",
       "        vertical-align: middle;\n",
       "    }\n",
       "\n",
       "    .dataframe tbody tr th {\n",
       "        vertical-align: top;\n",
       "    }\n",
       "\n",
       "    .dataframe thead th {\n",
       "        text-align: right;\n",
       "    }\n",
       "</style>\n",
       "<table border=\"1\" class=\"dataframe\">\n",
       "  <thead>\n",
       "    <tr style=\"text-align: right;\">\n",
       "      <th></th>\n",
       "      <th>Columns1</th>\n",
       "      <th>Columns2</th>\n",
       "      <th>Columns3</th>\n",
       "      <th>Columns4</th>\n",
       "      <th>Columns5</th>\n",
       "      <th>Kategori</th>\n",
       "    </tr>\n",
       "  </thead>\n",
       "  <tbody>\n",
       "    <tr>\n",
       "      <th>c</th>\n",
       "      <td>0.836938</td>\n",
       "      <td>-0.990771</td>\n",
       "      <td>-0.148286</td>\n",
       "      <td>0.095041</td>\n",
       "      <td>1.214360</td>\n",
       "      <td>A</td>\n",
       "    </tr>\n",
       "    <tr>\n",
       "      <th>e</th>\n",
       "      <td>0.029376</td>\n",
       "      <td>2.519365</td>\n",
       "      <td>-1.324103</td>\n",
       "      <td>0.745272</td>\n",
       "      <td>-0.874746</td>\n",
       "      <td>A</td>\n",
       "    </tr>\n",
       "    <tr>\n",
       "      <th>a</th>\n",
       "      <td>-1.735525</td>\n",
       "      <td>-2.457908</td>\n",
       "      <td>0.855288</td>\n",
       "      <td>-0.157196</td>\n",
       "      <td>-0.146044</td>\n",
       "      <td>A</td>\n",
       "    </tr>\n",
       "    <tr>\n",
       "      <th>b</th>\n",
       "      <td>-2.296553</td>\n",
       "      <td>1.318716</td>\n",
       "      <td>1.465150</td>\n",
       "      <td>0.961876</td>\n",
       "      <td>1.825504</td>\n",
       "      <td>B</td>\n",
       "    </tr>\n",
       "    <tr>\n",
       "      <th>d</th>\n",
       "      <td>-2.460543</td>\n",
       "      <td>-0.793984</td>\n",
       "      <td>-2.429308</td>\n",
       "      <td>-0.494203</td>\n",
       "      <td>-0.863856</td>\n",
       "      <td>B</td>\n",
       "    </tr>\n",
       "  </tbody>\n",
       "</table>\n",
       "</div>"
      ],
      "text/plain": [
       "   Columns1  Columns2  Columns3  Columns4  Columns5 Kategori\n",
       "c  0.836938 -0.990771 -0.148286  0.095041  1.214360        A\n",
       "e  0.029376  2.519365 -1.324103  0.745272 -0.874746        A\n",
       "a -1.735525 -2.457908  0.855288 -0.157196 -0.146044        A\n",
       "b -2.296553  1.318716  1.465150  0.961876  1.825504        B\n",
       "d -2.460543 -0.793984 -2.429308 -0.494203 -0.863856        B"
      ]
     },
     "execution_count": 30,
     "metadata": {},
     "output_type": "execute_result"
    }
   ],
   "source": [
    "df.sort_values(by =\"Columns1\",ascending=False) #büyükten küçüğe"
   ]
  },
  {
   "cell_type": "markdown",
   "id": "f7dfb41a-7972-47cd-a866-e3aaa2c66495",
   "metadata": {},
   "source": [
    "## 5 shape -> DataFrame'in kaç satır ve sütundan oluştuğunu gösterir."
   ]
  },
  {
   "cell_type": "code",
   "execution_count": 31,
   "id": "b0742cb6-174b-4d26-b73b-3ecf5bc3db6e",
   "metadata": {},
   "outputs": [
    {
     "data": {
      "text/plain": [
       "(5, 6)"
      ]
     },
     "execution_count": 31,
     "metadata": {},
     "output_type": "execute_result"
    }
   ],
   "source": [
    "df.shape"
   ]
  },
  {
   "cell_type": "markdown",
   "id": "dbafa168-c2af-45f9-a229-e697acfac80e",
   "metadata": {},
   "source": [
    "## 6 dtypes -> her sütunun veri türünü gösterir"
   ]
  },
  {
   "cell_type": "code",
   "execution_count": 32,
   "id": "cd0d513e-435c-465b-8961-a79a6440b861",
   "metadata": {},
   "outputs": [
    {
     "data": {
      "text/plain": [
       "Columns1    float64\n",
       "Columns2    float64\n",
       "Columns3    float64\n",
       "Columns4    float64\n",
       "Columns5    float64\n",
       "Kategori     object\n",
       "dtype: object"
      ]
     },
     "execution_count": 32,
     "metadata": {},
     "output_type": "execute_result"
    }
   ],
   "source": [
    "df.dtypes"
   ]
  },
  {
   "cell_type": "markdown",
   "id": "fe39959e-a889-4b69-ac44-90bbd3e2db97",
   "metadata": {},
   "source": [
    "## 7 astype() -> bir sütunun veri tipini değiştirebilmek için kullanılır"
   ]
  },
  {
   "cell_type": "code",
   "execution_count": 35,
   "id": "21783e03-6499-414f-a9eb-d871f6d3f764",
   "metadata": {},
   "outputs": [
    {
     "data": {
      "text/plain": [
       "Columns1      int64\n",
       "Columns2    float64\n",
       "Columns3    float64\n",
       "Columns4    float64\n",
       "Columns5    float64\n",
       "Kategori     object\n",
       "dtype: object"
      ]
     },
     "execution_count": 35,
     "metadata": {},
     "output_type": "execute_result"
    }
   ],
   "source": [
    "df[\"Columns1\"] = df[\"Columns1\"].astype(int)\n",
    "df.dtypes"
   ]
  },
  {
   "cell_type": "markdown",
   "id": "90d616b2-276f-492e-9d92-5180800de176",
   "metadata": {},
   "source": [
    "## 8 corr() -> Sütunlar arası ilşkiyi analiz eder "
   ]
  },
  {
   "cell_type": "code",
   "execution_count": 41,
   "id": "82e06aa3-d743-4558-be16-681c5f5a2518",
   "metadata": {},
   "outputs": [
    {
     "data": {
      "text/html": [
       "<div>\n",
       "<style scoped>\n",
       "    .dataframe tbody tr th:only-of-type {\n",
       "        vertical-align: middle;\n",
       "    }\n",
       "\n",
       "    .dataframe tbody tr th {\n",
       "        vertical-align: top;\n",
       "    }\n",
       "\n",
       "    .dataframe thead th {\n",
       "        text-align: right;\n",
       "    }\n",
       "</style>\n",
       "<table border=\"1\" class=\"dataframe\">\n",
       "  <thead>\n",
       "    <tr style=\"text-align: right;\">\n",
       "      <th></th>\n",
       "      <th>Columns1</th>\n",
       "      <th>Columns2</th>\n",
       "      <th>Columns3</th>\n",
       "      <th>Columns4</th>\n",
       "      <th>Columns5</th>\n",
       "    </tr>\n",
       "  </thead>\n",
       "  <tbody>\n",
       "    <tr>\n",
       "      <th>Columns1</th>\n",
       "      <td>1.000000</td>\n",
       "      <td>0.126648</td>\n",
       "      <td>-0.080139</td>\n",
       "      <td>0.152447</td>\n",
       "      <td>-0.126207</td>\n",
       "    </tr>\n",
       "    <tr>\n",
       "      <th>Columns2</th>\n",
       "      <td>0.126648</td>\n",
       "      <td>1.000000</td>\n",
       "      <td>-0.123991</td>\n",
       "      <td>0.810065</td>\n",
       "      <td>0.014200</td>\n",
       "    </tr>\n",
       "    <tr>\n",
       "      <th>Columns3</th>\n",
       "      <td>-0.080139</td>\n",
       "      <td>-0.123991</td>\n",
       "      <td>1.000000</td>\n",
       "      <td>0.474376</td>\n",
       "      <td>0.766777</td>\n",
       "    </tr>\n",
       "    <tr>\n",
       "      <th>Columns4</th>\n",
       "      <td>0.152447</td>\n",
       "      <td>0.810065</td>\n",
       "      <td>0.474376</td>\n",
       "      <td>1.000000</td>\n",
       "      <td>0.465950</td>\n",
       "    </tr>\n",
       "    <tr>\n",
       "      <th>Columns5</th>\n",
       "      <td>-0.126207</td>\n",
       "      <td>0.014200</td>\n",
       "      <td>0.766777</td>\n",
       "      <td>0.465950</td>\n",
       "      <td>1.000000</td>\n",
       "    </tr>\n",
       "  </tbody>\n",
       "</table>\n",
       "</div>"
      ],
      "text/plain": [
       "          Columns1  Columns2  Columns3  Columns4  Columns5\n",
       "Columns1  1.000000  0.126648 -0.080139  0.152447 -0.126207\n",
       "Columns2  0.126648  1.000000 -0.123991  0.810065  0.014200\n",
       "Columns3 -0.080139 -0.123991  1.000000  0.474376  0.766777\n",
       "Columns4  0.152447  0.810065  0.474376  1.000000  0.465950\n",
       "Columns5 -0.126207  0.014200  0.766777  0.465950  1.000000"
      ]
     },
     "execution_count": 41,
     "metadata": {},
     "output_type": "execute_result"
    }
   ],
   "source": [
    "df.corr(numeric_only= True)"
   ]
  },
  {
   "cell_type": "markdown",
   "id": "610a3a65-994c-41bf-85b3-d39b2acd598f",
   "metadata": {},
   "source": [
    "## 9 nunique() -> her sütunda kaç tane farklı değer olduğunu gösterir "
   ]
  },
  {
   "cell_type": "code",
   "execution_count": 42,
   "id": "62af70ab-b069-4a3b-8e86-9617a761b353",
   "metadata": {},
   "outputs": [
    {
     "data": {
      "text/plain": [
       "Columns1    3\n",
       "Columns2    5\n",
       "Columns3    5\n",
       "Columns4    5\n",
       "Columns5    5\n",
       "Kategori    2\n",
       "dtype: int64"
      ]
     },
     "execution_count": 42,
     "metadata": {},
     "output_type": "execute_result"
    }
   ],
   "source": [
    "df.nunique()"
   ]
  },
  {
   "cell_type": "markdown",
   "id": "21d8e3a2-9570-45c8-80a8-41eb7591cf5d",
   "metadata": {},
   "source": [
    "## 10 value_count() -> tekrar eden değerleri sayma"
   ]
  },
  {
   "cell_type": "code",
   "execution_count": 43,
   "id": "2c30a72f-7c01-4ffe-885d-9c96fd5528c4",
   "metadata": {},
   "outputs": [
    {
     "data": {
      "text/plain": [
       "Columns1\n",
       "-2.0    2\n",
       " 0.0    2\n",
       "-1.0    1\n",
       "Name: count, dtype: int64"
      ]
     },
     "execution_count": 43,
     "metadata": {},
     "output_type": "execute_result"
    }
   ],
   "source": [
    "df[\"Columns1\"].value_counts()"
   ]
  },
  {
   "cell_type": "code",
   "execution_count": null,
   "id": "8f11f739-df43-4a96-bbc1-18249b6452cb",
   "metadata": {},
   "outputs": [],
   "source": []
  }
 ],
 "metadata": {
  "kernelspec": {
   "display_name": "Python 3 (ipykernel)",
   "language": "python",
   "name": "python3"
  },
  "language_info": {
   "codemirror_mode": {
    "name": "ipython",
    "version": 3
   },
   "file_extension": ".py",
   "mimetype": "text/x-python",
   "name": "python",
   "nbconvert_exporter": "python",
   "pygments_lexer": "ipython3",
   "version": "3.12.9"
  }
 },
 "nbformat": 4,
 "nbformat_minor": 5
}
